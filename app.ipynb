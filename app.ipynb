{
 "cells": [
  {
   "cell_type": "code",
   "execution_count": 132,
   "metadata": {},
   "outputs": [],
   "source": [
    "import pandas as pd\n",
    "from sklearn.linear_model import LogisticRegression\n"
   ]
  },
  {
   "cell_type": "code",
   "execution_count": 135,
   "metadata": {},
   "outputs": [],
   "source": [
    "df = pd.read_csv('train.csv',sep=',')\n",
    "df = df.drop(['Name','Embarked','Ticket','Cabin','Age','PassengerId'],axis=1)\n",
    "df = df.dropna()\n",
    "X = df.drop(['Survived','Sex'],axis=1)\n",
    "y = df['Survived']\n",
    "sex = pd.get_dummies(df['Sex'],dtype=int,drop_first=True)\n",
    "X = pd.concat([X, sex], axis=1)\n"
   ]
  },
  {
   "cell_type": "code",
   "execution_count": 143,
   "metadata": {},
   "outputs": [],
   "source": [
    "df_test = pd.read_csv('test.csv',sep=',')\n",
    "df_test = df_test.drop(['Name','Embarked','Ticket','Cabin','Age','PassengerId'],axis=1)\n",
    "third_class = df_test[df_test['Pclass']==3]\n",
    "third_class_mean = third_class[\"Fare\"].mean()\n",
    "df_test = df_test.fillna(third_class_mean)\n",
    "X_test = df_test.drop(['Sex'],axis=1)\n",
    "test_sex = pd.get_dummies(df_test['Sex'],dtype=int,drop_first=True)\n",
    "X_test = pd.concat([X_test, test_sex], axis=1)\n"
   ]
  },
  {
   "cell_type": "code",
   "execution_count": 150,
   "metadata": {},
   "outputs": [],
   "source": [
    "\n",
    "df_test = pd.read_csv('test.csv',sep=',')\n",
    "modelo = LogisticRegression(max_iter=1000)\n",
    "modelo.fit(X,y)\n",
    "y_pred = modelo.predict(X_test)\n",
    "submission = pd.DataFrame({\n",
    "   'PassengerId': df_test['PassengerId'],  \n",
    "  'Survived': y_pred                 \n",
    "})\n",
    "submission.to_csv('submission.csv',index=False)"
   ]
  }
 ],
 "metadata": {
  "kernelspec": {
   "display_name": ".venv",
   "language": "python",
   "name": "python3"
  },
  "language_info": {
   "codemirror_mode": {
    "name": "ipython",
    "version": 3
   },
   "file_extension": ".py",
   "mimetype": "text/x-python",
   "name": "python",
   "nbconvert_exporter": "python",
   "pygments_lexer": "ipython3",
   "version": "3.12.6"
  }
 },
 "nbformat": 4,
 "nbformat_minor": 2
}
